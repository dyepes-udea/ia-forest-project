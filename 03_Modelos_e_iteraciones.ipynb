{
  "nbformat": 4,
  "nbformat_minor": 0,
  "metadata": {
    "colab": {
      "provenance": [],
      "include_colab_link": true
    },
    "kernelspec": {
      "name": "python3",
      "display_name": "Python 3"
    },
    "language_info": {
      "name": "python"
    }
  },
  "cells": [
    {
      "cell_type": "markdown",
      "metadata": {
        "id": "view-in-github",
        "colab_type": "text"
      },
      "source": [
        "<a href=\"https://colab.research.google.com/github/dyepes-udea/ia-forest-project/blob/main/03_Modelos_e_iteraciones.ipynb\" target=\"_parent\"><img src=\"https://colab.research.google.com/assets/colab-badge.svg\" alt=\"Open In Colab\"/></a>"
      ]
    },
    {
      "cell_type": "code",
      "execution_count": 1,
      "metadata": {
        "id": "gcqo1-zwyc2x"
      },
      "outputs": [],
      "source": [
        "#Volvemos a cargar las librerias y los datos para poder continuar con el procesado de los datos\n",
        "import pandas as pd\n",
        "import numpy as np\n",
        "import random\n",
        "import requests"
      ]
    },
    {
      "cell_type": "code",
      "source": [
        "import json\n",
        "\n",
        "data = {\"username\":\"danielyepesmesa\",\"key\":\"84aa2288a3d961af65fb22e9ccda4433\"}\n",
        "with open('kaggle.json', 'w') as file:\n",
        "    json.dump(data, file, indent=4)\n"
      ],
      "metadata": {
        "id": "PTbbr3HYy23l"
      },
      "execution_count": 2,
      "outputs": []
    },
    {
      "cell_type": "code",
      "source": [
        "! pip install kaggle"
      ],
      "metadata": {
        "colab": {
          "base_uri": "https://localhost:8080/"
        },
        "id": "N7iJUxGiy21A",
        "outputId": "58810e6b-e9a7-441b-eb49-ea01e98a56aa"
      },
      "execution_count": 3,
      "outputs": [
        {
          "output_type": "stream",
          "name": "stdout",
          "text": [
            "Looking in indexes: https://pypi.org/simple, https://us-python.pkg.dev/colab-wheels/public/simple/\n",
            "Requirement already satisfied: kaggle in /usr/local/lib/python3.7/dist-packages (1.5.12)\n",
            "Requirement already satisfied: six>=1.10 in /usr/local/lib/python3.7/dist-packages (from kaggle) (1.15.0)\n",
            "Requirement already satisfied: python-dateutil in /usr/local/lib/python3.7/dist-packages (from kaggle) (2.8.2)\n",
            "Requirement already satisfied: certifi in /usr/local/lib/python3.7/dist-packages (from kaggle) (2022.9.24)\n",
            "Requirement already satisfied: urllib3 in /usr/local/lib/python3.7/dist-packages (from kaggle) (1.24.3)\n",
            "Requirement already satisfied: python-slugify in /usr/local/lib/python3.7/dist-packages (from kaggle) (6.1.2)\n",
            "Requirement already satisfied: tqdm in /usr/local/lib/python3.7/dist-packages (from kaggle) (4.64.1)\n",
            "Requirement already satisfied: requests in /usr/local/lib/python3.7/dist-packages (from kaggle) (2.23.0)\n",
            "Requirement already satisfied: text-unidecode>=1.3 in /usr/local/lib/python3.7/dist-packages (from python-slugify->kaggle) (1.3)\n",
            "Requirement already satisfied: chardet<4,>=3.0.2 in /usr/local/lib/python3.7/dist-packages (from requests->kaggle) (3.0.4)\n",
            "Requirement already satisfied: idna<3,>=2.5 in /usr/local/lib/python3.7/dist-packages (from requests->kaggle) (2.10)\n"
          ]
        }
      ]
    },
    {
      "cell_type": "code",
      "source": [
        "! mkdir ~/.kaggle"
      ],
      "metadata": {
        "id": "hkuxa2tny2yo"
      },
      "execution_count": 4,
      "outputs": []
    },
    {
      "cell_type": "code",
      "source": [
        "! cp kaggle.json ~/.kaggle/"
      ],
      "metadata": {
        "id": "41ot6lqry2uL"
      },
      "execution_count": 5,
      "outputs": []
    },
    {
      "cell_type": "code",
      "source": [
        "! chmod 600 ~/.kaggle/kaggle.json"
      ],
      "metadata": {
        "id": "QU7I6dRSy2rx"
      },
      "execution_count": 6,
      "outputs": []
    },
    {
      "cell_type": "code",
      "source": [
        "! kaggle competitions download forest-cover-type-prediction"
      ],
      "metadata": {
        "colab": {
          "base_uri": "https://localhost:8080/"
        },
        "id": "KX09RoTDy2nP",
        "outputId": "6e70e860-79f7-4492-fe12-55b461ed0919"
      },
      "execution_count": 7,
      "outputs": [
        {
          "output_type": "stream",
          "name": "stdout",
          "text": [
            "Downloading forest-cover-type-prediction.zip to /content\n",
            " 91% 23.0M/25.3M [00:01<00:00, 26.9MB/s]\n",
            "100% 25.3M/25.3M [00:01<00:00, 17.3MB/s]\n"
          ]
        }
      ]
    },
    {
      "cell_type": "code",
      "source": [
        "#En este paso vamos extraer el CSV que contiene el dataset\n",
        "!unzip forest-cover-type-prediction.zip"
      ],
      "metadata": {
        "colab": {
          "base_uri": "https://localhost:8080/"
        },
        "id": "VZink2ipy2k3",
        "outputId": "385be0a2-c356-4a4b-bfeb-7ae831958b18"
      },
      "execution_count": 8,
      "outputs": [
        {
          "output_type": "stream",
          "name": "stdout",
          "text": [
            "Archive:  forest-cover-type-prediction.zip\n",
            "  inflating: sampleSubmission.csv    \n",
            "  inflating: sampleSubmission.csv.zip  \n",
            "  inflating: test.csv                \n",
            "  inflating: test.csv.zip            \n",
            "  inflating: test3.csv               \n",
            "  inflating: train.csv               \n",
            "  inflating: train.csv.zip           \n"
          ]
        }
      ]
    },
    {
      "cell_type": "code",
      "source": [
        "df = pd.read_csv(\"train.csv\")\n",
        "df_forest = df.copy()\n",
        "df_forest.isnull().sum()"
      ],
      "metadata": {
        "colab": {
          "base_uri": "https://localhost:8080/"
        },
        "id": "FfYLsJ0a4RVg",
        "outputId": "5798e483-28f9-4dda-cde1-e030d3322b9c"
      },
      "execution_count": 9,
      "outputs": [
        {
          "output_type": "execute_result",
          "data": {
            "text/plain": [
              "Id                                    0\n",
              "Elevation                             0\n",
              "Aspect                                0\n",
              "Slope                                 0\n",
              "Horizontal_Distance_To_Hydrology      0\n",
              "Vertical_Distance_To_Hydrology        0\n",
              "Horizontal_Distance_To_Roadways       0\n",
              "Hillshade_9am                         0\n",
              "Hillshade_Noon                        0\n",
              "Hillshade_3pm                         0\n",
              "Horizontal_Distance_To_Fire_Points    0\n",
              "Wilderness_Area1                      0\n",
              "Wilderness_Area2                      0\n",
              "Wilderness_Area3                      0\n",
              "Wilderness_Area4                      0\n",
              "Soil_Type1                            0\n",
              "Soil_Type2                            0\n",
              "Soil_Type3                            0\n",
              "Soil_Type4                            0\n",
              "Soil_Type5                            0\n",
              "Soil_Type6                            0\n",
              "Soil_Type7                            0\n",
              "Soil_Type8                            0\n",
              "Soil_Type9                            0\n",
              "Soil_Type10                           0\n",
              "Soil_Type11                           0\n",
              "Soil_Type12                           0\n",
              "Soil_Type13                           0\n",
              "Soil_Type14                           0\n",
              "Soil_Type15                           0\n",
              "Soil_Type16                           0\n",
              "Soil_Type17                           0\n",
              "Soil_Type18                           0\n",
              "Soil_Type19                           0\n",
              "Soil_Type20                           0\n",
              "Soil_Type21                           0\n",
              "Soil_Type22                           0\n",
              "Soil_Type23                           0\n",
              "Soil_Type24                           0\n",
              "Soil_Type25                           0\n",
              "Soil_Type26                           0\n",
              "Soil_Type27                           0\n",
              "Soil_Type28                           0\n",
              "Soil_Type29                           0\n",
              "Soil_Type30                           0\n",
              "Soil_Type31                           0\n",
              "Soil_Type32                           0\n",
              "Soil_Type33                           0\n",
              "Soil_Type34                           0\n",
              "Soil_Type35                           0\n",
              "Soil_Type36                           0\n",
              "Soil_Type37                           0\n",
              "Soil_Type38                           0\n",
              "Soil_Type39                           0\n",
              "Soil_Type40                           0\n",
              "Cover_Type                            0\n",
              "dtype: int64"
            ]
          },
          "metadata": {},
          "execution_count": 9
        }
      ]
    },
    {
      "cell_type": "code",
      "source": [
        "data_forest = df_forest.dropna() #eliminamos todas las columnas con valores en NaN\n",
        "data_forest.isnull().sum() #Verificamos si las silas en NaA fueron eliminadas"
      ],
      "metadata": {
        "colab": {
          "base_uri": "https://localhost:8080/"
        },
        "id": "2GUxjdxy5Tm-",
        "outputId": "76d51e50-fc64-4c34-d58a-ecdc6228529a"
      },
      "execution_count": 10,
      "outputs": [
        {
          "output_type": "execute_result",
          "data": {
            "text/plain": [
              "Id                                    0\n",
              "Elevation                             0\n",
              "Aspect                                0\n",
              "Slope                                 0\n",
              "Horizontal_Distance_To_Hydrology      0\n",
              "Vertical_Distance_To_Hydrology        0\n",
              "Horizontal_Distance_To_Roadways       0\n",
              "Hillshade_9am                         0\n",
              "Hillshade_Noon                        0\n",
              "Hillshade_3pm                         0\n",
              "Horizontal_Distance_To_Fire_Points    0\n",
              "Wilderness_Area1                      0\n",
              "Wilderness_Area2                      0\n",
              "Wilderness_Area3                      0\n",
              "Wilderness_Area4                      0\n",
              "Soil_Type1                            0\n",
              "Soil_Type2                            0\n",
              "Soil_Type3                            0\n",
              "Soil_Type4                            0\n",
              "Soil_Type5                            0\n",
              "Soil_Type6                            0\n",
              "Soil_Type7                            0\n",
              "Soil_Type8                            0\n",
              "Soil_Type9                            0\n",
              "Soil_Type10                           0\n",
              "Soil_Type11                           0\n",
              "Soil_Type12                           0\n",
              "Soil_Type13                           0\n",
              "Soil_Type14                           0\n",
              "Soil_Type15                           0\n",
              "Soil_Type16                           0\n",
              "Soil_Type17                           0\n",
              "Soil_Type18                           0\n",
              "Soil_Type19                           0\n",
              "Soil_Type20                           0\n",
              "Soil_Type21                           0\n",
              "Soil_Type22                           0\n",
              "Soil_Type23                           0\n",
              "Soil_Type24                           0\n",
              "Soil_Type25                           0\n",
              "Soil_Type26                           0\n",
              "Soil_Type27                           0\n",
              "Soil_Type28                           0\n",
              "Soil_Type29                           0\n",
              "Soil_Type30                           0\n",
              "Soil_Type31                           0\n",
              "Soil_Type32                           0\n",
              "Soil_Type33                           0\n",
              "Soil_Type34                           0\n",
              "Soil_Type35                           0\n",
              "Soil_Type36                           0\n",
              "Soil_Type37                           0\n",
              "Soil_Type38                           0\n",
              "Soil_Type39                           0\n",
              "Soil_Type40                           0\n",
              "Cover_Type                            0\n",
              "dtype: int64"
            ]
          },
          "metadata": {},
          "execution_count": 10
        }
      ]
    },
    {
      "cell_type": "code",
      "source": [
        "means_vector = data_forest.iloc[:,[1,2,3,4,5,6,7,8,9,10]].mean().round(1).to_list()\n",
        "means_vector"
      ],
      "metadata": {
        "colab": {
          "base_uri": "https://localhost:8080/"
        },
        "id": "NNGpSTSm5PfO",
        "outputId": "a6dd88ad-07bc-4d4d-cedc-faa634c94148"
      },
      "execution_count": 11,
      "outputs": [
        {
          "output_type": "execute_result",
          "data": {
            "text/plain": [
              "[2749.3, 156.7, 16.5, 227.2, 51.1, 1714.0, 212.7, 219.0, 135.1, 1511.1]"
            ]
          },
          "metadata": {},
          "execution_count": 11
        }
      ]
    },
    {
      "cell_type": "code",
      "source": [
        "columns_means = [\"Elevation\", \"Aspect\", \"Slope\", \"Horizontal_Distance_To_Hydrology\", \"Vertical_Distance_To_Hydrology\", \n",
        "                 \"Horizontal_Distance_To_Roadways\", \"Hillshade_9am\", \"Hillshade_Noon\", \"Hillshade_3pm\", \"Horizontal_Distance_To_Fire_Points\"]\n",
        "columns_bool = [\"Wilderness_Area1\" ,\"Wilderness_Area2\" ,\"Wilderness_Area3\" ,\"Wilderness_Area4\" ,\"Soil_Type1\" ,\"Soil_Type2\" ,\"Soil_Type3\" ,\n",
        "                \"Soil_Type4\" ,\"Soil_Type5\" ,\"Soil_Type6\" ,\"Soil_Type7\" ,\"Soil_Type8\" ,\"Soil_Type9\" ,\"Soil_Type10\" ,\"Soil_Type11\" ,\"Soil_Type12\" ,\"Soil_Type13\" ,\n",
        "                \"Soil_Type14\" ,\"Soil_Type15\" ,\"Soil_Type16\" ,\"Soil_Type17\" ,\"Soil_Type18\" ,\"Soil_Type19\" ,\"Soil_Type20\" ,\"Soil_Type21\" ,\"Soil_Type22\" ,\n",
        "                \"Soil_Type23\" ,\"Soil_Type24\" ,\"Soil_Type25\" ,\"Soil_Type26\" ,\"Soil_Type27\" ,\"Soil_Type28\" ,\"Soil_Type29\" ,\"Soil_Type30\" ,\"Soil_Type31\" ,\n",
        "                \"Soil_Type32\" ,\"Soil_Type33\" ,\"Soil_Type34\" ,\"Soil_Type35\" ,\"Soil_Type36\" ,\"Soil_Type37\" ,\"Soil_Type38\" ,\"Soil_Type39\" ,\"Soil_Type40\"]"
      ],
      "metadata": {
        "id": "GUozh56w5Vsg"
      },
      "execution_count": 12,
      "outputs": []
    },
    {
      "cell_type": "markdown",
      "source": [
        "llenamos los NaN con los valores correspondientes, sea un valor booleano o un promedio"
      ],
      "metadata": {
        "id": "4Dx4PXIx4ENH"
      }
    },
    {
      "cell_type": "code",
      "source": [
        "aux = 0\n",
        "\n",
        "for column in columns_means:\n",
        "  df_forest[column].fillna(value=means_vector[aux], inplace=True)\n",
        "  aux += 1\n",
        "\n",
        "\n",
        "for column in columns_bool:\n",
        "  df_forest[column].fillna(value=random.randint(0,1), inplace=True)"
      ],
      "metadata": {
        "id": "IpsZFoCN4Ezf"
      },
      "execution_count": 13,
      "outputs": []
    },
    {
      "cell_type": "markdown",
      "source": [
        "Inicamos el entrenamiento del modelo, lo realizamos cargando las librerias pertinentes"
      ],
      "metadata": {
        "id": "eaSRUe2kzYhX"
      }
    },
    {
      "cell_type": "code",
      "source": [
        "x=df_forest.drop([\"Id\",\"Cover_Type\"],axis=1)\n",
        "y=df_forest['Cover_Type']"
      ],
      "metadata": {
        "id": "e7lUfYo03qZ3"
      },
      "execution_count": 14,
      "outputs": []
    },
    {
      "cell_type": "code",
      "source": [
        "from sklearn.naive_bayes import MultinomialNB,GaussianNB,BernoulliNB\n",
        "from sklearn.neighbors import KNeighborsClassifier\n",
        "from sklearn.svm import SVC\n",
        "from sklearn.tree import DecisionTreeClassifier\n",
        "from sklearn.linear_model import LogisticRegression\n",
        "from sklearn.ensemble import GradientBoostingClassifier\n",
        "from sklearn.ensemble import AdaBoostClassifier\n",
        "from xgboost import XGBClassifier\n",
        "from sklearn.model_selection import train_test_split\n",
        "from sklearn.ensemble import RandomForestClassifier\n",
        "from sklearn.metrics import classification_report,accuracy_score,confusion_matrix,precision_score,recall_score,f1_score"
      ],
      "metadata": {
        "id": "1xGXcBgpy2i2"
      },
      "execution_count": 15,
      "outputs": []
    },
    {
      "cell_type": "markdown",
      "source": [
        "Queremos determinar cual es el modelo mas apropiado para realizar nuestros entrenamientos\n",
        "\n",
        "Metodo GaussianoNB"
      ],
      "metadata": {
        "id": "MzKsTkBJ3e23"
      }
    },
    {
      "cell_type": "code",
      "source": [
        "def classification_gs(df_forest,y):\n",
        "  \n",
        "    x=df_forest\n",
        "    y=y\n",
        "    x_train,x_test,y_train,y_test=train_test_split(x,y,test_size=.2,random_state=42)\n",
        "\n",
        "\n",
        "    predict=GaussianNB().fit(x_train,y_train).predict(x_test)\n",
        "\n",
        "    accuracy = accuracy_score(y_test,predict)\n",
        "    precision = precision_score(y_test,predict,average='micro')\n",
        "    recall = recall_score(y_test,predict,average='micro')\n",
        "    f1 = f1_score(y_test,predict,average='micro')\n",
        "\n",
        "    return accuracy, precision, recall, f1\n",
        "\n",
        "classification_gs(x,y)"
      ],
      "metadata": {
        "colab": {
          "base_uri": "https://localhost:8080/"
        },
        "id": "lL9_vA1vy2gt",
        "outputId": "5e259e00-5db6-40ed-909b-0159b448331f"
      },
      "execution_count": 16,
      "outputs": [
        {
          "output_type": "execute_result",
          "data": {
            "text/plain": [
              "(0.6008597883597884,\n",
              " 0.6008597883597884,\n",
              " 0.6008597883597884,\n",
              " 0.6008597883597884)"
            ]
          },
          "metadata": {},
          "execution_count": 16
        }
      ]
    },
    {
      "cell_type": "markdown",
      "source": [
        "Metodo Bernoulli"
      ],
      "metadata": {
        "id": "fPzG8kG05hBe"
      }
    },
    {
      "cell_type": "code",
      "source": [
        "def classification_bn(df_forest,y):\n",
        "\n",
        "\n",
        "    x=df_forest\n",
        "    y=y\n",
        "    x_train,x_test,y_train,y_test=train_test_split(x,y,test_size=.2,random_state=42)\n",
        "\n",
        "\n",
        "    predict=BernoulliNB().fit(x_train,y_train).predict(x_test)\n",
        "\n",
        "    accuracy = accuracy_score(y_test,predict)\n",
        "    precision = precision_score(y_test,predict,average='micro')\n",
        "    recall = recall_score(y_test,predict,average='micro')\n",
        "    f1 = f1_score(y_test,predict,average='micro')\n",
        "\n",
        "    return accuracy, precision, recall, f1\n",
        "\n",
        "classification_bn(x,y)"
      ],
      "metadata": {
        "colab": {
          "base_uri": "https://localhost:8080/"
        },
        "id": "hxHrpP2Oy2d5",
        "outputId": "f01aac0b-3760-4809-9783-b87457de1bbe"
      },
      "execution_count": 17,
      "outputs": [
        {
          "output_type": "execute_result",
          "data": {
            "text/plain": [
              "(0.6107804232804233,\n",
              " 0.6107804232804233,\n",
              " 0.6107804232804233,\n",
              " 0.6107804232804233)"
            ]
          },
          "metadata": {},
          "execution_count": 17
        }
      ]
    },
    {
      "cell_type": "markdown",
      "source": [
        "Metodo de KNeigbors"
      ],
      "metadata": {
        "id": "UEj8qFhY5k__"
      }
    },
    {
      "cell_type": "code",
      "source": [
        "def classification_kn(df_forest,y):\n",
        "\n",
        "\n",
        "    x=df_forest\n",
        "    y=y\n",
        "    x_train,x_test,y_train,y_test=train_test_split(x,y,test_size=.2,random_state=42)\n",
        "\n",
        "\n",
        "    predict=KNeighborsClassifier().fit(x_train,y_train).predict(x_test)\n",
        "\n",
        "    accuracy = accuracy_score(y_test,predict)\n",
        "    precision = precision_score(y_test,predict,average='micro')\n",
        "    recall = recall_score(y_test,predict,average='micro')\n",
        "    f1 = f1_score(y_test,predict,average='micro')\n",
        "\n",
        "    return accuracy, precision, recall, f1\n",
        "\n",
        "classification_kn(x,y)"
      ],
      "metadata": {
        "colab": {
          "base_uri": "https://localhost:8080/"
        },
        "id": "lDqfTUuTy2bv",
        "outputId": "d15bf06c-9eaa-4c59-9e2f-9a2b2c8e6610"
      },
      "execution_count": 18,
      "outputs": [
        {
          "output_type": "execute_result",
          "data": {
            "text/plain": [
              "(0.8048941798941799,\n",
              " 0.8048941798941799,\n",
              " 0.8048941798941799,\n",
              " 0.8048941798941799)"
            ]
          },
          "metadata": {},
          "execution_count": 18
        }
      ]
    },
    {
      "cell_type": "markdown",
      "source": [
        "Metodo de SVC\n"
      ],
      "metadata": {
        "id": "begqXjT65q_Y"
      }
    },
    {
      "cell_type": "code",
      "source": [
        "def classification_svc(df_forest,y):\n",
        "\n",
        "\n",
        "    x=df_forest\n",
        "    y=y\n",
        "    x_train,x_test,y_train,y_test=train_test_split(x,y,test_size=.2,random_state=42)\n",
        "\n",
        "\n",
        "    predict=SVC().fit(x_train,y_train).predict(x_test)\n",
        "\n",
        "    accuracy = accuracy_score(y_test,predict)\n",
        "    precision = precision_score(y_test,predict,average='micro')\n",
        "    recall = recall_score(y_test,predict,average='micro')\n",
        "    f1 = f1_score(y_test,predict,average='micro')\n",
        "\n",
        "    return accuracy, precision, recall, f1\n",
        "\n",
        "classification_svc(x,y)"
      ],
      "metadata": {
        "colab": {
          "base_uri": "https://localhost:8080/"
        },
        "id": "9SofVYB4y2ZT",
        "outputId": "e48af4c1-493b-4cdf-fa18-175cf4d95d69"
      },
      "execution_count": 19,
      "outputs": [
        {
          "output_type": "execute_result",
          "data": {
            "text/plain": [
              "(0.6256613756613757,\n",
              " 0.6256613756613757,\n",
              " 0.6256613756613757,\n",
              " 0.6256613756613757)"
            ]
          },
          "metadata": {},
          "execution_count": 19
        }
      ]
    },
    {
      "cell_type": "markdown",
      "source": [
        "Metodo DecisionTree"
      ],
      "metadata": {
        "id": "azfzosoM6VYj"
      }
    },
    {
      "cell_type": "code",
      "source": [
        "def classification_dTree(df_forest,y):\n",
        "\n",
        "\n",
        "    x=df_forest\n",
        "    y=y\n",
        "    x_train,x_test,y_train,y_test=train_test_split(x,y,test_size=.2,random_state=42)\n",
        "\n",
        "\n",
        "    predict=DecisionTreeClassifier().fit(x_train,y_train).predict(x_test)\n",
        "\n",
        "    accuracy = accuracy_score(y_test,predict)\n",
        "    precision = precision_score(y_test,predict,average='micro')\n",
        "    recall = recall_score(y_test,predict,average='micro')\n",
        "    f1 = f1_score(y_test,predict,average='micro')\n",
        "\n",
        "    return accuracy, precision, recall, f1\n",
        "\n",
        "classification_dTree(x,y)"
      ],
      "metadata": {
        "colab": {
          "base_uri": "https://localhost:8080/"
        },
        "id": "lFda0SUHy2Wv",
        "outputId": "43ac4c52-1922-44c1-99a3-5a9e3c221de7"
      },
      "execution_count": 20,
      "outputs": [
        {
          "output_type": "execute_result",
          "data": {
            "text/plain": [
              "(0.7926587301587301,\n",
              " 0.7926587301587301,\n",
              " 0.7926587301587301,\n",
              " 0.7926587301587301)"
            ]
          },
          "metadata": {},
          "execution_count": 20
        }
      ]
    },
    {
      "cell_type": "markdown",
      "source": [
        "Metodo de LogisticRegr"
      ],
      "metadata": {
        "id": "TMt4E3xn6qnO"
      }
    },
    {
      "cell_type": "code",
      "source": [
        "def classification_lRegr(df_forest,y):\n",
        "\n",
        "\n",
        "    x=df_forest\n",
        "    y=y\n",
        "    x_train,x_test,y_train,y_test=train_test_split(x,y,test_size=.2,random_state=42)\n",
        "\n",
        "    predict=LogisticRegression().fit(x_train,y_train).predict(x_test)\n",
        "\n",
        "    accuracy = accuracy_score(y_test,predict)\n",
        "    precision = precision_score(y_test,predict,average='micro')\n",
        "    recall = recall_score(y_test,predict,average='micro')\n",
        "    f1 = f1_score(y_test,predict,average='micro')\n",
        "\n",
        "    return accuracy, precision, recall, f1\n",
        "\n",
        "classification_lRegr(x,y)"
      ],
      "metadata": {
        "colab": {
          "base_uri": "https://localhost:8080/"
        },
        "id": "uktOVUvHy2U4",
        "outputId": "9c71b7cf-9fdb-4f45-eb08-f1fbb09c959e"
      },
      "execution_count": 21,
      "outputs": [
        {
          "output_type": "stream",
          "name": "stderr",
          "text": [
            "/usr/local/lib/python3.7/dist-packages/sklearn/linear_model/_logistic.py:818: ConvergenceWarning: lbfgs failed to converge (status=1):\n",
            "STOP: TOTAL NO. of ITERATIONS REACHED LIMIT.\n",
            "\n",
            "Increase the number of iterations (max_iter) or scale the data as shown in:\n",
            "    https://scikit-learn.org/stable/modules/preprocessing.html\n",
            "Please also refer to the documentation for alternative solver options:\n",
            "    https://scikit-learn.org/stable/modules/linear_model.html#logistic-regression\n",
            "  extra_warning_msg=_LOGISTIC_SOLVER_CONVERGENCE_MSG,\n"
          ]
        },
        {
          "output_type": "execute_result",
          "data": {
            "text/plain": [
              "(0.47453703703703703,\n",
              " 0.47453703703703703,\n",
              " 0.47453703703703703,\n",
              " 0.47453703703703703)"
            ]
          },
          "metadata": {},
          "execution_count": 21
        }
      ]
    },
    {
      "cell_type": "markdown",
      "source": [
        "Metodo de GradientBoosting"
      ],
      "metadata": {
        "id": "3sN3tzrb6ygf"
      }
    },
    {
      "cell_type": "code",
      "source": [
        "\n",
        "def classification_graBoosting(df_forest,y):\n",
        "\n",
        "\n",
        "    x=df_forest\n",
        "    y=y\n",
        "    x_train,x_test,y_train,y_test=train_test_split(x,y,test_size=.2,random_state=42)\n",
        "\n",
        "    predict=GradientBoostingClassifier().fit(x_train,y_train).predict(x_test)\n",
        "\n",
        "    accuracy = accuracy_score(y_test,predict)\n",
        "    precision = precision_score(y_test,predict,average='micro')\n",
        "    recall = recall_score(y_test,predict,average='micro')\n",
        "    f1 = f1_score(y_test,predict,average='micro')\n",
        "\n",
        "    return accuracy, precision, recall, f1\n",
        "\n",
        "classification_graBoosting(x,y)"
      ],
      "metadata": {
        "colab": {
          "base_uri": "https://localhost:8080/"
        },
        "id": "uUQ4cE1Oy2SQ",
        "outputId": "be4ca961-0862-4e86-ac87-96681eef1c34"
      },
      "execution_count": 22,
      "outputs": [
        {
          "output_type": "execute_result",
          "data": {
            "text/plain": [
              "(0.8022486772486772,\n",
              " 0.8022486772486772,\n",
              " 0.8022486772486772,\n",
              " 0.8022486772486772)"
            ]
          },
          "metadata": {},
          "execution_count": 22
        }
      ]
    },
    {
      "cell_type": "markdown",
      "source": [
        "Metodo de RandomForest"
      ],
      "metadata": {
        "id": "rIE9La47_SqG"
      }
    },
    {
      "cell_type": "code",
      "source": [
        "def classification_ramForest(df_forest,y):\n",
        "\n",
        "\n",
        "    x=df_forest\n",
        "    y=y\n",
        "    x_train,x_test,y_train,y_test=train_test_split(x,y,test_size=.2,random_state=42)\n",
        "\n",
        "    predict=RandomForestClassifier().fit(x_train,y_train).predict(x_test)\n",
        "\n",
        "    accuracy = accuracy_score(y_test,predict)\n",
        "    precision = precision_score(y_test,predict,average='micro')\n",
        "    recall = recall_score(y_test,predict,average='micro')\n",
        "    f1 = f1_score(y_test,predict,average='micro')\n",
        "\n",
        "    return accuracy, precision, recall, f1\n",
        "\n",
        "classification_ramForest(x,y)"
      ],
      "metadata": {
        "colab": {
          "base_uri": "https://localhost:8080/"
        },
        "id": "8xr5V6gey2QA",
        "outputId": "196826ad-d346-44e9-d519-42249620c600"
      },
      "execution_count": 23,
      "outputs": [
        {
          "output_type": "execute_result",
          "data": {
            "text/plain": [
              "(0.871031746031746, 0.871031746031746, 0.871031746031746, 0.871031746031746)"
            ]
          },
          "metadata": {},
          "execution_count": 23
        }
      ]
    },
    {
      "cell_type": "markdown",
      "source": [
        "Usamos un modelo no supervisado, para analizar los Cover_Types y de que forma estan agrupados en funcion de la distancia hidrologica"
      ],
      "metadata": {
        "id": "NFXdPEVnBKnV"
      }
    },
    {
      "cell_type": "code",
      "source": [
        "import matplotlib.pyplot as plt\n",
        "import seaborn as sns\n",
        "\n",
        "plt.figure(figsize = (7,7))\n",
        "sns.scatterplot(\"Horizontal_Distance_To_Hydrology\",\"Vertical_Distance_To_Hydrology\",hue = \"Cover_Type\",data = df_forest)"
      ],
      "metadata": {
        "colab": {
          "base_uri": "https://localhost:8080/",
          "height": 515
        },
        "id": "y0T0_jWKBKcl",
        "outputId": "c828e347-54c5-4cb5-8cf8-aca060246921"
      },
      "execution_count": 24,
      "outputs": [
        {
          "output_type": "stream",
          "name": "stderr",
          "text": [
            "/usr/local/lib/python3.7/dist-packages/seaborn/_decorators.py:43: FutureWarning: Pass the following variables as keyword args: x, y. From version 0.12, the only valid positional argument will be `data`, and passing other arguments without an explicit keyword will result in an error or misinterpretation.\n",
            "  FutureWarning\n"
          ]
        },
        {
          "output_type": "execute_result",
          "data": {
            "text/plain": [
              "<matplotlib.axes._subplots.AxesSubplot at 0x7f629a9db2d0>"
            ]
          },
          "metadata": {},
          "execution_count": 24
        },
        {
          "output_type": "display_data",
          "data": {
            "text/plain": [
              "<Figure size 504x504 with 1 Axes>"
            ],
            "image/png": "[encoded data removed]"
          },
          "metadata": {
            "needs_background": "light"
          }
        }
      ]
    },
    {
      "cell_type": "markdown",
      "source": [
        "Tenemos 3 metodos que nos dan mayor precisión para el entrenamiento de el modelo"
      ],
      "metadata": {
        "id": "Mu3BcEnLBQsu"
      }
    },
    {
      "cell_type": "code",
      "source": [
        "top3Metods = pd.DataFrame(columns=['Acurracy', 'Precision', 'Recall', 'F1'],index=['DecisionTree','GradientBoosting','RandomForest'])\n",
        "dTree = classification_dTree(x,y)\n",
        "top3Metods.Acurracy[0] = dTree[0]\n",
        "top3Metods.Precision[0] = dTree[1]\n",
        "top3Metods.Recall[0] = dTree[2]\n",
        "top3Metods.F1[0] = dTree[3]\n",
        "\n",
        "graBoosting = classification_graBoosting(x,y)\n",
        "top3Metods.Acurracy[1] = graBoosting[0]\n",
        "top3Metods.Precision[1] = graBoosting[1]\n",
        "top3Metods.Recall[1] = graBoosting[2]\n",
        "top3Metods.F1[1] = graBoosting[3]\n",
        "\n",
        "RamForest = classification_ramForest(x,y)\n",
        "top3Metods.Acurracy[2] = RamForest[0]\n",
        "top3Metods.Precision[2] = RamForest[1]\n",
        "top3Metods.Recall[2] = RamForest[2]\n",
        "top3Metods.F1[2] = RamForest[3]\n",
        "\n",
        "\n",
        "top3Metods.head()"
      ],
      "metadata": {
        "colab": {
          "base_uri": "https://localhost:8080/",
          "height": 143
        },
        "id": "dA8LjFg0y2Nz",
        "outputId": "15c854cc-27b1-4fca-85f3-a3e2e56052b2"
      },
      "execution_count": 25,
      "outputs": [
        {
          "output_type": "execute_result",
          "data": {
            "text/plain": [
              "                  Acurracy Precision    Recall        F1\n",
              "DecisionTree      0.792328  0.792328  0.792328  0.792328\n",
              "GradientBoosting  0.802249  0.802249  0.802249  0.802249\n",
              "RandomForest      0.871362  0.871362  0.871362  0.871362"
            ],
            "text/html": [
              "\n",
              "  <div id=\"df-7d486849-c533-4a95-877f-b0f93a79bb28\">\n",
              "    <div class=\"colab-df-container\">\n",
              "      <div>\n",
              "<style scoped>\n",
              "    .dataframe tbody tr th:only-of-type {\n",
              "        vertical-align: middle;\n",
              "    }\n",
              "\n",
              "    .dataframe tbody tr th {\n",
              "        vertical-align: top;\n",
              "    }\n",
              "\n",
              "    .dataframe thead th {\n",
              "        text-align: right;\n",
              "    }\n",
              "</style>\n",
              "<table border=\"1\" class=\"dataframe\">\n",
              "  <thead>\n",
              "    <tr style=\"text-align: right;\">\n",
              "      <th></th>\n",
              "      <th>Acurracy</th>\n",
              "      <th>Precision</th>\n",
              "      <th>Recall</th>\n",
              "      <th>F1</th>\n",
              "    </tr>\n",
              "  </thead>\n",
              "  <tbody>\n",
              "    <tr>\n",
              "      <th>DecisionTree</th>\n",
              "      <td>0.792328</td>\n",
              "      <td>0.792328</td>\n",
              "      <td>0.792328</td>\n",
              "      <td>0.792328</td>\n",
              "    </tr>\n",
              "    <tr>\n",
              "      <th>GradientBoosting</th>\n",
              "      <td>0.802249</td>\n",
              "      <td>0.802249</td>\n",
              "      <td>0.802249</td>\n",
              "      <td>0.802249</td>\n",
              "    </tr>\n",
              "    <tr>\n",
              "      <th>RandomForest</th>\n",
              "      <td>0.871362</td>\n",
              "      <td>0.871362</td>\n",
              "      <td>0.871362</td>\n",
              "      <td>0.871362</td>\n",
              "    </tr>\n",
              "  </tbody>\n",
              "</table>\n",
              "</div>\n",
              "      <button class=\"colab-df-convert\" onclick=\"convertToInteractive('df-7d486849-c533-4a95-877f-b0f93a79bb28')\"\n",
              "              title=\"Convert this dataframe to an interactive table.\"\n",
              "              style=\"display:none;\">\n",
              "        \n",
              "  <svg xmlns=\"http://www.w3.org/2000/svg\" height=\"24px\"viewBox=\"0 0 24 24\"\n",
              "       width=\"24px\">\n",
              "    <path d=\"M0 0h24v24H0V0z\" fill=\"none\"/>\n",
              "    <path d=\"M18.56 5.44l.94 2.06.94-2.06 2.06-.94-2.06-.94-.94-2.06-.94 2.06-2.06.94zm-11 1L8.5 8.5l.94-2.06 2.06-.94-2.06-.94L8.5 2.5l-.94 2.06-2.06.94zm10 10l.94 2.06.94-2.06 2.06-.94-2.06-.94-.94-2.06-.94 2.06-2.06.94z\"/><path d=\"M17.41 7.96l-1.37-1.37c-.4-.4-.92-.59-1.43-.59-.52 0-1.04.2-1.43.59L10.3 9.45l-7.72 7.72c-.78.78-.78 2.05 0 2.83L4 21.41c.39.39.9.59 1.41.59.51 0 1.02-.2 1.41-.59l7.78-7.78 2.81-2.81c.8-.78.8-2.07 0-2.86zM5.41 20L4 18.59l7.72-7.72 1.47 1.35L5.41 20z\"/>\n",
              "  </svg>\n",
              "      </button>\n",
              "      \n",
              "  <style>\n",
              "    .colab-df-container {\n",
              "      display:flex;\n",
              "      flex-wrap:wrap;\n",
              "      gap: 12px;\n",
              "    }\n",
              "\n",
              "    .colab-df-convert {\n",
              "      background-color: #E8F0FE;\n",
              "      border: none;\n",
              "      border-radius: 50%;\n",
              "      cursor: pointer;\n",
              "      display: none;\n",
              "      fill: #1967D2;\n",
              "      height: 32px;\n",
              "      padding: 0 0 0 0;\n",
              "      width: 32px;\n",
              "    }\n",
              "\n",
              "    .colab-df-convert:hover {\n",
              "      background-color: #E2EBFA;\n",
              "      box-shadow: 0px 1px 2px rgba(60, 64, 67, 0.3), 0px 1px 3px 1px rgba(60, 64, 67, 0.15);\n",
              "      fill: #174EA6;\n",
              "    }\n",
              "\n",
              "    [theme=dark] .colab-df-convert {\n",
              "      background-color: #3B4455;\n",
              "      fill: #D2E3FC;\n",
              "    }\n",
              "\n",
              "    [theme=dark] .colab-df-convert:hover {\n",
              "      background-color: #434B5C;\n",
              "      box-shadow: 0px 1px 3px 1px rgba(0, 0, 0, 0.15);\n",
              "      filter: drop-shadow(0px 1px 2px rgba(0, 0, 0, 0.3));\n",
              "      fill: #FFFFFF;\n",
              "    }\n",
              "  </style>\n",
              "\n",
              "      <script>\n",
              "        const buttonEl =\n",
              "          document.querySelector('#df-7d486849-c533-4a95-877f-b0f93a79bb28 button.colab-df-convert');\n",
              "        buttonEl.style.display =\n",
              "          google.colab.kernel.accessAllowed ? 'block' : 'none';\n",
              "\n",
              "        async function convertToInteractive(key) {\n",
              "          const element = document.querySelector('#df-7d486849-c533-4a95-877f-b0f93a79bb28');\n",
              "          const dataTable =\n",
              "            await google.colab.kernel.invokeFunction('convertToInteractive',\n",
              "                                                     [key], {});\n",
              "          if (!dataTable) return;\n",
              "\n",
              "          const docLinkHtml = 'Like what you see? Visit the ' +\n",
              "            '<a target=\"_blank\" href=https://colab.research.google.com/notebooks/data_table.ipynb>data table notebook</a>'\n",
              "            + ' to learn more about interactive tables.';\n",
              "          element.innerHTML = '';\n",
              "          dataTable['output_type'] = 'display_data';\n",
              "          await google.colab.output.renderOutput(dataTable, element);\n",
              "          const docLink = document.createElement('div');\n",
              "          docLink.innerHTML = docLinkHtml;\n",
              "          element.appendChild(docLink);\n",
              "        }\n",
              "      </script>\n",
              "    </div>\n",
              "  </div>\n",
              "  "
            ]
          },
          "metadata": {},
          "execution_count": 25
        }
      ]
    },
    {
      "cell_type": "markdown",
      "source": [
        "Como podemos observar el metodo de mayor precisión es el RandomForest, por lo tanto este sera nuestro modelo"
      ],
      "metadata": {
        "id": "WhGAUhljBtSn"
      }
    },
    {
      "cell_type": "code",
      "source": [
        "x_train,x_test,y_train,y_test = train_test_split(x,y ,random_state=70)\n",
        "\n",
        "model = RandomForestClassifier(n_estimators=70)\n",
        "model.fit(x_train,y_train)\n",
        "\n",
        "model.score(x_test,y_test)*100"
      ],
      "metadata": {
        "colab": {
          "base_uri": "https://localhost:8080/"
        },
        "id": "khG7SjQly2LP",
        "outputId": "67c55a4c-ccc7-4738-85d6-f69935208abd"
      },
      "execution_count": 26,
      "outputs": [
        {
          "output_type": "execute_result",
          "data": {
            "text/plain": [
              "86.37566137566137"
            ]
          },
          "metadata": {},
          "execution_count": 26
        }
      ]
    },
    {
      "cell_type": "markdown",
      "source": [
        "Importamos el dataset para testing"
      ],
      "metadata": {
        "id": "Zzc57f8DBytM"
      }
    },
    {
      "cell_type": "code",
      "source": [
        "df_test = pd.read_csv(\"test.csv\")\n",
        "df.head(10)"
      ],
      "metadata": {
        "colab": {
          "base_uri": "https://localhost:8080/",
          "height": 456
        },
        "id": "4hrDeLv-y2Iv",
        "outputId": "de1a3145-7830-4278-fa5b-6bbef71d2217"
      },
      "execution_count": 27,
      "outputs": [
        {
          "output_type": "execute_result",
          "data": {
            "text/plain": [
              "   Id  Elevation  Aspect  Slope  Horizontal_Distance_To_Hydrology  \\\n",
              "0   1       2596      51      3                               258   \n",
              "1   2       2590      56      2                               212   \n",
              "2   3       2804     139      9                               268   \n",
              "3   4       2785     155     18                               242   \n",
              "4   5       2595      45      2                               153   \n",
              "5   6       2579     132      6                               300   \n",
              "6   7       2606      45      7                               270   \n",
              "7   8       2605      49      4                               234   \n",
              "8   9       2617      45      9                               240   \n",
              "9  10       2612      59     10                               247   \n",
              "\n",
              "   Vertical_Distance_To_Hydrology  Horizontal_Distance_To_Roadways  \\\n",
              "0                               0                              510   \n",
              "1                              -6                              390   \n",
              "2                              65                             3180   \n",
              "3                             118                             3090   \n",
              "4                              -1                              391   \n",
              "5                             -15                               67   \n",
              "6                               5                              633   \n",
              "7                               7                              573   \n",
              "8                              56                              666   \n",
              "9                              11                              636   \n",
              "\n",
              "   Hillshade_9am  Hillshade_Noon  Hillshade_3pm  ...  Soil_Type32  \\\n",
              "0            221             232            148  ...            0   \n",
              "1            220             235            151  ...            0   \n",
              "2            234             238            135  ...            0   \n",
              "3            238             238            122  ...            0   \n",
              "4            220             234            150  ...            0   \n",
              "5            230             237            140  ...            0   \n",
              "6            222             225            138  ...            0   \n",
              "7            222             230            144  ...            0   \n",
              "8            223             221            133  ...            0   \n",
              "9            228             219            124  ...            0   \n",
              "\n",
              "   Soil_Type33  Soil_Type34  Soil_Type35  Soil_Type36  Soil_Type37  \\\n",
              "0            0            0            0            0            0   \n",
              "1            0            0            0            0            0   \n",
              "2            0            0            0            0            0   \n",
              "3            0            0            0            0            0   \n",
              "4            0            0            0            0            0   \n",
              "5            0            0            0            0            0   \n",
              "6            0            0            0            0            0   \n",
              "7            0            0            0            0            0   \n",
              "8            0            0            0            0            0   \n",
              "9            0            0            0            0            0   \n",
              "\n",
              "   Soil_Type38  Soil_Type39  Soil_Type40  Cover_Type  \n",
              "0            0            0            0           5  \n",
              "1            0            0            0           5  \n",
              "2            0            0            0           2  \n",
              "3            0            0            0           2  \n",
              "4            0            0            0           5  \n",
              "5            0            0            0           2  \n",
              "6            0            0            0           5  \n",
              "7            0            0            0           5  \n",
              "8            0            0            0           5  \n",
              "9            0            0            0           5  \n",
              "\n",
              "[10 rows x 56 columns]"
            ],
            "text/html": [
              "\n",
              "  <div id=\"df-34730d99-2de3-4df5-bf8e-6351847cb2c4\">\n",
              "    <div class=\"colab-df-container\">\n",
              "      <div>\n",
              "<style scoped>\n",
              "    .dataframe tbody tr th:only-of-type {\n",
              "        vertical-align: middle;\n",
              "    }\n",
              "\n",
              "    .dataframe tbody tr th {\n",
              "        vertical-align: top;\n",
              "    }\n",
              "\n",
              "    .dataframe thead th {\n",
              "        text-align: right;\n",
              "    }\n",
              "</style>\n",
              "<table border=\"1\" class=\"dataframe\">\n",
              "  <thead>\n",
              "    <tr style=\"text-align: right;\">\n",
              "      <th></th>\n",
              "      <th>Id</th>\n",
              "      <th>Elevation</th>\n",
              "      <th>Aspect</th>\n",
              "      <th>Slope</th>\n",
              "      <th>Horizontal_Distance_To_Hydrology</th>\n",
              "      <th>Vertical_Distance_To_Hydrology</th>\n",
              "      <th>Horizontal_Distance_To_Roadways</th>\n",
              "      <th>Hillshade_9am</th>\n",
              "      <th>Hillshade_Noon</th>\n",
              "      <th>Hillshade_3pm</th>\n",
              "      <th>...</th>\n",
              "      <th>Soil_Type32</th>\n",
              "      <th>Soil_Type33</th>\n",
              "      <th>Soil_Type34</th>\n",
              "      <th>Soil_Type35</th>\n",
              "      <th>Soil_Type36</th>\n",
              "      <th>Soil_Type37</th>\n",
              "      <th>Soil_Type38</th>\n",
              "      <th>Soil_Type39</th>\n",
              "      <th>Soil_Type40</th>\n",
              "      <th>Cover_Type</th>\n",
              "    </tr>\n",
              "  </thead>\n",
              "  <tbody>\n",
              "    <tr>\n",
              "      <th>0</th>\n",
              "      <td>1</td>\n",
              "      <td>2596</td>\n",
              "      <td>51</td>\n",
              "      <td>3</td>\n",
              "      <td>258</td>\n",
              "      <td>0</td>\n",
              "      <td>510</td>\n",
              "      <td>221</td>\n",
              "      <td>232</td>\n",
              "      <td>148</td>\n",
              "      <td>...</td>\n",
              "      <td>0</td>\n",
              "      <td>0</td>\n",
              "      <td>0</td>\n",
              "      <td>0</td>\n",
              "      <td>0</td>\n",
              "      <td>0</td>\n",
              "      <td>0</td>\n",
              "      <td>0</td>\n",
              "      <td>0</td>\n",
              "      <td>5</td>\n",
              "    </tr>\n",
              "    <tr>\n",
              "      <th>1</th>\n",
              "      <td>2</td>\n",
              "      <td>2590</td>\n",
              "      <td>56</td>\n",
              "      <td>2</td>\n",
              "      <td>212</td>\n",
              "      <td>-6</td>\n",
              "      <td>390</td>\n",
              "      <td>220</td>\n",
              "      <td>235</td>\n",
              "      <td>151</td>\n",
              "      <td>...</td>\n",
              "      <td>0</td>\n",
              "      <td>0</td>\n",
              "      <td>0</td>\n",
              "      <td>0</td>\n",
              "      <td>0</td>\n",
              "      <td>0</td>\n",
              "      <td>0</td>\n",
              "      <td>0</td>\n",
              "      <td>0</td>\n",
              "      <td>5</td>\n",
              "    </tr>\n",
              "    <tr>\n",
              "      <th>2</th>\n",
              "      <td>3</td>\n",
              "      <td>2804</td>\n",
              "      <td>139</td>\n",
              "      <td>9</td>\n",
              "      <td>268</td>\n",
              "      <td>65</td>\n",
              "      <td>3180</td>\n",
              "      <td>234</td>\n",
              "      <td>238</td>\n",
              "      <td>135</td>\n",
              "      <td>...</td>\n",
              "      <td>0</td>\n",
              "      <td>0</td>\n",
              "      <td>0</td>\n",
              "      <td>0</td>\n",
              "      <td>0</td>\n",
              "      <td>0</td>\n",
              "      <td>0</td>\n",
              "      <td>0</td>\n",
              "      <td>0</td>\n",
              "      <td>2</td>\n",
              "    </tr>\n",
              "    <tr>\n",
              "      <th>3</th>\n",
              "      <td>4</td>\n",
              "      <td>2785</td>\n",
              "      <td>155</td>\n",
              "      <td>18</td>\n",
              "      <td>242</td>\n",
              "      <td>118</td>\n",
              "      <td>3090</td>\n",
              "      <td>238</td>\n",
              "      <td>238</td>\n",
              "      <td>122</td>\n",
              "      <td>...</td>\n",
              "      <td>0</td>\n",
              "      <td>0</td>\n",
              "      <td>0</td>\n",
              "      <td>0</td>\n",
              "      <td>0</td>\n",
              "      <td>0</td>\n",
              "      <td>0</td>\n",
              "      <td>0</td>\n",
              "      <td>0</td>\n",
              "      <td>2</td>\n",
              "    </tr>\n",
              "    <tr>\n",
              "      <th>4</th>\n",
              "      <td>5</td>\n",
              "      <td>2595</td>\n",
              "      <td>45</td>\n",
              "      <td>2</td>\n",
              "      <td>153</td>\n",
              "      <td>-1</td>\n",
              "      <td>391</td>\n",
              "      <td>220</td>\n",
              "      <td>234</td>\n",
              "      <td>150</td>\n",
              "      <td>...</td>\n",
              "      <td>0</td>\n",
              "      <td>0</td>\n",
              "      <td>0</td>\n",
              "      <td>0</td>\n",
              "      <td>0</td>\n",
              "      <td>0</td>\n",
              "      <td>0</td>\n",
              "      <td>0</td>\n",
              "      <td>0</td>\n",
              "      <td>5</td>\n",
              "    </tr>\n",
              "    <tr>\n",
              "      <th>5</th>\n",
              "      <td>6</td>\n",
              "      <td>2579</td>\n",
              "      <td>132</td>\n",
              "      <td>6</td>\n",
              "      <td>300</td>\n",
              "      <td>-15</td>\n",
              "      <td>67</td>\n",
              "      <td>230</td>\n",
              "      <td>237</td>\n",
              "      <td>140</td>\n",
              "      <td>...</td>\n",
              "      <td>0</td>\n",
              "      <td>0</td>\n",
              "      <td>0</td>\n",
              "      <td>0</td>\n",
              "      <td>0</td>\n",
              "      <td>0</td>\n",
              "      <td>0</td>\n",
              "      <td>0</td>\n",
              "      <td>0</td>\n",
              "      <td>2</td>\n",
              "    </tr>\n",
              "    <tr>\n",
              "      <th>6</th>\n",
              "      <td>7</td>\n",
              "      <td>2606</td>\n",
              "      <td>45</td>\n",
              "      <td>7</td>\n",
              "      <td>270</td>\n",
              "      <td>5</td>\n",
              "      <td>633</td>\n",
              "      <td>222</td>\n",
              "      <td>225</td>\n",
              "      <td>138</td>\n",
              "      <td>...</td>\n",
              "      <td>0</td>\n",
              "      <td>0</td>\n",
              "      <td>0</td>\n",
              "      <td>0</td>\n",
              "      <td>0</td>\n",
              "      <td>0</td>\n",
              "      <td>0</td>\n",
              "      <td>0</td>\n",
              "      <td>0</td>\n",
              "      <td>5</td>\n",
              "    </tr>\n",
              "    <tr>\n",
              "      <th>7</th>\n",
              "      <td>8</td>\n",
              "      <td>2605</td>\n",
              "      <td>49</td>\n",
              "      <td>4</td>\n",
              "      <td>234</td>\n",
              "      <td>7</td>\n",
              "      <td>573</td>\n",
              "      <td>222</td>\n",
              "      <td>230</td>\n",
              "      <td>144</td>\n",
              "      <td>...</td>\n",
              "      <td>0</td>\n",
              "      <td>0</td>\n",
              "      <td>0</td>\n",
              "      <td>0</td>\n",
              "      <td>0</td>\n",
              "      <td>0</td>\n",
              "      <td>0</td>\n",
              "      <td>0</td>\n",
              "      <td>0</td>\n",
              "      <td>5</td>\n",
              "    </tr>\n",
              "    <tr>\n",
              "      <th>8</th>\n",
              "      <td>9</td>\n",
              "      <td>2617</td>\n",
              "      <td>45</td>\n",
              "      <td>9</td>\n",
              "      <td>240</td>\n",
              "      <td>56</td>\n",
              "      <td>666</td>\n",
              "      <td>223</td>\n",
              "      <td>221</td>\n",
              "      <td>133</td>\n",
              "      <td>...</td>\n",
              "      <td>0</td>\n",
              "      <td>0</td>\n",
              "      <td>0</td>\n",
              "      <td>0</td>\n",
              "      <td>0</td>\n",
              "      <td>0</td>\n",
              "      <td>0</td>\n",
              "      <td>0</td>\n",
              "      <td>0</td>\n",
              "      <td>5</td>\n",
              "    </tr>\n",
              "    <tr>\n",
              "      <th>9</th>\n",
              "      <td>10</td>\n",
              "      <td>2612</td>\n",
              "      <td>59</td>\n",
              "      <td>10</td>\n",
              "      <td>247</td>\n",
              "      <td>11</td>\n",
              "      <td>636</td>\n",
              "      <td>228</td>\n",
              "      <td>219</td>\n",
              "      <td>124</td>\n",
              "      <td>...</td>\n",
              "      <td>0</td>\n",
              "      <td>0</td>\n",
              "      <td>0</td>\n",
              "      <td>0</td>\n",
              "      <td>0</td>\n",
              "      <td>0</td>\n",
              "      <td>0</td>\n",
              "      <td>0</td>\n",
              "      <td>0</td>\n",
              "      <td>5</td>\n",
              "    </tr>\n",
              "  </tbody>\n",
              "</table>\n",
              "<p>10 rows × 56 columns</p>\n",
              "</div>\n",
              "      <button class=\"colab-df-convert\" onclick=\"convertToInteractive('df-34730d99-2de3-4df5-bf8e-6351847cb2c4')\"\n",
              "              title=\"Convert this dataframe to an interactive table.\"\n",
              "              style=\"display:none;\">\n",
              "        \n",
              "  <svg xmlns=\"http://www.w3.org/2000/svg\" height=\"24px\"viewBox=\"0 0 24 24\"\n",
              "       width=\"24px\">\n",
              "    <path d=\"M0 0h24v24H0V0z\" fill=\"none\"/>\n",
              "    <path d=\"M18.56 5.44l.94 2.06.94-2.06 2.06-.94-2.06-.94-.94-2.06-.94 2.06-2.06.94zm-11 1L8.5 8.5l.94-2.06 2.06-.94-2.06-.94L8.5 2.5l-.94 2.06-2.06.94zm10 10l.94 2.06.94-2.06 2.06-.94-2.06-.94-.94-2.06-.94 2.06-2.06.94z\"/><path d=\"M17.41 7.96l-1.37-1.37c-.4-.4-.92-.59-1.43-.59-.52 0-1.04.2-1.43.59L10.3 9.45l-7.72 7.72c-.78.78-.78 2.05 0 2.83L4 21.41c.39.39.9.59 1.41.59.51 0 1.02-.2 1.41-.59l7.78-7.78 2.81-2.81c.8-.78.8-2.07 0-2.86zM5.41 20L4 18.59l7.72-7.72 1.47 1.35L5.41 20z\"/>\n",
              "  </svg>\n",
              "      </button>\n",
              "      \n",
              "  <style>\n",
              "    .colab-df-container {\n",
              "      display:flex;\n",
              "      flex-wrap:wrap;\n",
              "      gap: 12px;\n",
              "    }\n",
              "\n",
              "    .colab-df-convert {\n",
              "      background-color: #E8F0FE;\n",
              "      border: none;\n",
              "      border-radius: 50%;\n",
              "      cursor: pointer;\n",
              "      display: none;\n",
              "      fill: #1967D2;\n",
              "      height: 32px;\n",
              "      padding: 0 0 0 0;\n",
              "      width: 32px;\n",
              "    }\n",
              "\n",
              "    .colab-df-convert:hover {\n",
              "      background-color: #E2EBFA;\n",
              "      box-shadow: 0px 1px 2px rgba(60, 64, 67, 0.3), 0px 1px 3px 1px rgba(60, 64, 67, 0.15);\n",
              "      fill: #174EA6;\n",
              "    }\n",
              "\n",
              "    [theme=dark] .colab-df-convert {\n",
              "      background-color: #3B4455;\n",
              "      fill: #D2E3FC;\n",
              "    }\n",
              "\n",
              "    [theme=dark] .colab-df-convert:hover {\n",
              "      background-color: #434B5C;\n",
              "      box-shadow: 0px 1px 3px 1px rgba(0, 0, 0, 0.15);\n",
              "      filter: drop-shadow(0px 1px 2px rgba(0, 0, 0, 0.3));\n",
              "      fill: #FFFFFF;\n",
              "    }\n",
              "  </style>\n",
              "\n",
              "      <script>\n",
              "        const buttonEl =\n",
              "          document.querySelector('#df-34730d99-2de3-4df5-bf8e-6351847cb2c4 button.colab-df-convert');\n",
              "        buttonEl.style.display =\n",
              "          google.colab.kernel.accessAllowed ? 'block' : 'none';\n",
              "\n",
              "        async function convertToInteractive(key) {\n",
              "          const element = document.querySelector('#df-34730d99-2de3-4df5-bf8e-6351847cb2c4');\n",
              "          const dataTable =\n",
              "            await google.colab.kernel.invokeFunction('convertToInteractive',\n",
              "                                                     [key], {});\n",
              "          if (!dataTable) return;\n",
              "\n",
              "          const docLinkHtml = 'Like what you see? Visit the ' +\n",
              "            '<a target=\"_blank\" href=https://colab.research.google.com/notebooks/data_table.ipynb>data table notebook</a>'\n",
              "            + ' to learn more about interactive tables.';\n",
              "          element.innerHTML = '';\n",
              "          dataTable['output_type'] = 'display_data';\n",
              "          await google.colab.output.renderOutput(dataTable, element);\n",
              "          const docLink = document.createElement('div');\n",
              "          docLink.innerHTML = docLinkHtml;\n",
              "          element.appendChild(docLink);\n",
              "        }\n",
              "      </script>\n",
              "    </div>\n",
              "  </div>\n",
              "  "
            ]
          },
          "metadata": {},
          "execution_count": 27
        }
      ]
    },
    {
      "cell_type": "code",
      "source": [
        "predict=model.predict(df_test.drop(labels=['Id'],axis=1))\n",
        "\n",
        "submission= pd.DataFrame(data = predict,columns = ['Cover_Type'])\n",
        "submission.head(100)\n"
      ],
      "metadata": {
        "colab": {
          "base_uri": "https://localhost:8080/",
          "height": 424
        },
        "id": "1Av-pT7ky2GX",
        "outputId": "ab9a6a47-f956-406b-9b9b-8437914c6b65"
      },
      "execution_count": 28,
      "outputs": [
        {
          "output_type": "execute_result",
          "data": {
            "text/plain": [
              "    Cover_Type\n",
              "0            2\n",
              "1            2\n",
              "2            2\n",
              "3            2\n",
              "4            2\n",
              "..         ...\n",
              "95           2\n",
              "96           2\n",
              "97           2\n",
              "98           2\n",
              "99           2\n",
              "\n",
              "[100 rows x 1 columns]"
            ],
            "text/html": [
              "\n",
              "  <div id=\"df-49e14425-8dc3-4864-a8c7-0674c093f30d\">\n",
              "    <div class=\"colab-df-container\">\n",
              "      <div>\n",
              "<style scoped>\n",
              "    .dataframe tbody tr th:only-of-type {\n",
              "        vertical-align: middle;\n",
              "    }\n",
              "\n",
              "    .dataframe tbody tr th {\n",
              "        vertical-align: top;\n",
              "    }\n",
              "\n",
              "    .dataframe thead th {\n",
              "        text-align: right;\n",
              "    }\n",
              "</style>\n",
              "<table border=\"1\" class=\"dataframe\">\n",
              "  <thead>\n",
              "    <tr style=\"text-align: right;\">\n",
              "      <th></th>\n",
              "      <th>Cover_Type</th>\n",
              "    </tr>\n",
              "  </thead>\n",
              "  <tbody>\n",
              "    <tr>\n",
              "      <th>0</th>\n",
              "      <td>2</td>\n",
              "    </tr>\n",
              "    <tr>\n",
              "      <th>1</th>\n",
              "      <td>2</td>\n",
              "    </tr>\n",
              "    <tr>\n",
              "      <th>2</th>\n",
              "      <td>2</td>\n",
              "    </tr>\n",
              "    <tr>\n",
              "      <th>3</th>\n",
              "      <td>2</td>\n",
              "    </tr>\n",
              "    <tr>\n",
              "      <th>4</th>\n",
              "      <td>2</td>\n",
              "    </tr>\n",
              "    <tr>\n",
              "      <th>...</th>\n",
              "      <td>...</td>\n",
              "    </tr>\n",
              "    <tr>\n",
              "      <th>95</th>\n",
              "      <td>2</td>\n",
              "    </tr>\n",
              "    <tr>\n",
              "      <th>96</th>\n",
              "      <td>2</td>\n",
              "    </tr>\n",
              "    <tr>\n",
              "      <th>97</th>\n",
              "      <td>2</td>\n",
              "    </tr>\n",
              "    <tr>\n",
              "      <th>98</th>\n",
              "      <td>2</td>\n",
              "    </tr>\n",
              "    <tr>\n",
              "      <th>99</th>\n",
              "      <td>2</td>\n",
              "    </tr>\n",
              "  </tbody>\n",
              "</table>\n",
              "<p>100 rows × 1 columns</p>\n",
              "</div>\n",
              "      <button class=\"colab-df-convert\" onclick=\"convertToInteractive('df-49e14425-8dc3-4864-a8c7-0674c093f30d')\"\n",
              "              title=\"Convert this dataframe to an interactive table.\"\n",
              "              style=\"display:none;\">\n",
              "        \n",
              "  <svg xmlns=\"http://www.w3.org/2000/svg\" height=\"24px\"viewBox=\"0 0 24 24\"\n",
              "       width=\"24px\">\n",
              "    <path d=\"M0 0h24v24H0V0z\" fill=\"none\"/>\n",
              "    <path d=\"M18.56 5.44l.94 2.06.94-2.06 2.06-.94-2.06-.94-.94-2.06-.94 2.06-2.06.94zm-11 1L8.5 8.5l.94-2.06 2.06-.94-2.06-.94L8.5 2.5l-.94 2.06-2.06.94zm10 10l.94 2.06.94-2.06 2.06-.94-2.06-.94-.94-2.06-.94 2.06-2.06.94z\"/><path d=\"M17.41 7.96l-1.37-1.37c-.4-.4-.92-.59-1.43-.59-.52 0-1.04.2-1.43.59L10.3 9.45l-7.72 7.72c-.78.78-.78 2.05 0 2.83L4 21.41c.39.39.9.59 1.41.59.51 0 1.02-.2 1.41-.59l7.78-7.78 2.81-2.81c.8-.78.8-2.07 0-2.86zM5.41 20L4 18.59l7.72-7.72 1.47 1.35L5.41 20z\"/>\n",
              "  </svg>\n",
              "      </button>\n",
              "      \n",
              "  <style>\n",
              "    .colab-df-container {\n",
              "      display:flex;\n",
              "      flex-wrap:wrap;\n",
              "      gap: 12px;\n",
              "    }\n",
              "\n",
              "    .colab-df-convert {\n",
              "      background-color: #E8F0FE;\n",
              "      border: none;\n",
              "      border-radius: 50%;\n",
              "      cursor: pointer;\n",
              "      display: none;\n",
              "      fill: #1967D2;\n",
              "      height: 32px;\n",
              "      padding: 0 0 0 0;\n",
              "      width: 32px;\n",
              "    }\n",
              "\n",
              "    .colab-df-convert:hover {\n",
              "      background-color: #E2EBFA;\n",
              "      box-shadow: 0px 1px 2px rgba(60, 64, 67, 0.3), 0px 1px 3px 1px rgba(60, 64, 67, 0.15);\n",
              "      fill: #174EA6;\n",
              "    }\n",
              "\n",
              "    [theme=dark] .colab-df-convert {\n",
              "      background-color: #3B4455;\n",
              "      fill: #D2E3FC;\n",
              "    }\n",
              "\n",
              "    [theme=dark] .colab-df-convert:hover {\n",
              "      background-color: #434B5C;\n",
              "      box-shadow: 0px 1px 3px 1px rgba(0, 0, 0, 0.15);\n",
              "      filter: drop-shadow(0px 1px 2px rgba(0, 0, 0, 0.3));\n",
              "      fill: #FFFFFF;\n",
              "    }\n",
              "  </style>\n",
              "\n",
              "      <script>\n",
              "        const buttonEl =\n",
              "          document.querySelector('#df-49e14425-8dc3-4864-a8c7-0674c093f30d button.colab-df-convert');\n",
              "        buttonEl.style.display =\n",
              "          google.colab.kernel.accessAllowed ? 'block' : 'none';\n",
              "\n",
              "        async function convertToInteractive(key) {\n",
              "          const element = document.querySelector('#df-49e14425-8dc3-4864-a8c7-0674c093f30d');\n",
              "          const dataTable =\n",
              "            await google.colab.kernel.invokeFunction('convertToInteractive',\n",
              "                                                     [key], {});\n",
              "          if (!dataTable) return;\n",
              "\n",
              "          const docLinkHtml = 'Like what you see? Visit the ' +\n",
              "            '<a target=\"_blank\" href=https://colab.research.google.com/notebooks/data_table.ipynb>data table notebook</a>'\n",
              "            + ' to learn more about interactive tables.';\n",
              "          element.innerHTML = '';\n",
              "          dataTable['output_type'] = 'display_data';\n",
              "          await google.colab.output.renderOutput(dataTable, element);\n",
              "          const docLink = document.createElement('div');\n",
              "          docLink.innerHTML = docLinkHtml;\n",
              "          element.appendChild(docLink);\n",
              "        }\n",
              "      </script>\n",
              "    </div>\n",
              "  </div>\n",
              "  "
            ]
          },
          "metadata": {},
          "execution_count": 28
        }
      ]
    },
    {
      "cell_type": "code",
      "source": [
        "submission['Id'] =df_test[\"Id\"]\n",
        "submission.set_index('Id',inplace=True)\n",
        "submission.to_csv('submission.csv')"
      ],
      "metadata": {
        "id": "-qLELeN2y2EN"
      },
      "execution_count": 29,
      "outputs": []
    }
  ]
}